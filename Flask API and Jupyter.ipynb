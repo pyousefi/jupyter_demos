{
 "cells": [
  {
   "cell_type": "markdown",
   "metadata": {},
   "source": [
    "## **Note** : You cannot run the code below simultanesouly. One or the other!"
   ]
  },
  {
   "cell_type": "code",
   "execution_count": null,
   "metadata": {},
   "outputs": [],
   "source": [
    "from werkzeug.wrappers import Request, Response\n",
    "from flask import Flask\n",
    "\n",
    "app = Flask(__name__)\n",
    "\n",
    "@app.route(\"/\")\n",
    "def hello():\n",
    "    return \"Hello World!\"\n",
    "\n",
    "if __name__ == '__main__':\n",
    "    from werkzeug.serving import run_simple\n",
    "    run_simple('localhost', 9000, app)"
   ]
  },
  {
   "cell_type": "code",
   "execution_count": null,
   "metadata": {},
   "outputs": [],
   "source": [
    "from flask import Flask\n",
    "app = Flask(__name__)\n",
    "\n",
    "@app.route(\"/\")\n",
    "def hello():\n",
    "    return \"Hello World!\"\n",
    "\n",
    "if __name__ == \"__main__\":\n",
    "    app.run(debug=False,port=1234)"
   ]
  },
  {
   "cell_type": "markdown",
   "metadata": {},
   "source": [
    "### You can acccess bash from the cell!"
   ]
  },
  {
   "cell_type": "code",
   "execution_count": 5,
   "metadata": {},
   "outputs": [
    {
     "name": "stdout",
     "output_type": "stream",
     "text": [
      "\u001b[34mApplications\u001b[m\u001b[m             \u001b[34mOneDrive - IQVIA\u001b[m\u001b[m         gitconfig\r\n",
      "\u001b[34mDesktop\u001b[m\u001b[m                  \u001b[34mPictures\u001b[m\u001b[m                 hello.py\r\n",
      "\u001b[34mDocuments\u001b[m\u001b[m                \u001b[34mPublic\u001b[m\u001b[m                   \u001b[34moradiag_pyousefi\u001b[m\u001b[m\r\n",
      "\u001b[34mDownloads\u001b[m\u001b[m                Untitled.ipynb           pa_hdfs_config.yml\r\n",
      "\u001b[35mGoogle Drive File Stream\u001b[m\u001b[m \u001b[34m__pycache__\u001b[m\u001b[m              pyousefi.keytab\r\n",
      "\u001b[34mLibrary\u001b[m\u001b[m                  \u001b[34mcache_benchmark\u001b[m\u001b[m          sshconfig\r\n",
      "\u001b[34mMovies\u001b[m\u001b[m                   \u001b[34mdev\u001b[m\u001b[m\r\n",
      "\u001b[34mMusic\u001b[m\u001b[m                    \u001b[31mget_helm.sh\u001b[m\u001b[m\r\n"
     ]
    }
   ],
   "source": [
    "!ls"
   ]
  },
  {
   "cell_type": "code",
   "execution_count": 6,
   "metadata": {},
   "outputs": [
    {
     "name": "stdout",
     "output_type": "stream",
     "text": [
      "TERM_PROGRAM=iTerm.app\r\n",
      "VIRTUALENVWRAPPER_PROJECT_FILENAME=.project\r\n",
      "VIRTUALENVWRAPPER_SCRIPT=/anaconda3/bin/virtualenvwrapper.sh\r\n",
      "SHELL=/bin/bash\r\n",
      "TERM=xterm-color\r\n",
      "CLICOLOR=1\r\n",
      "TMPDIR=/var/folders/f1/slmmt9s57svft8bs01842wfxr76fkl/T/\r\n",
      "Apple_PubSub_Socket_Render=/private/tmp/com.apple.launchd.b5FiLrlsOY/Render\r\n",
      "TERM_PROGRAM_VERSION=3.2.5\r\n",
      "TERM_SESSION_ID=w0t0p0:8EBE6DAE-FF28-4252-997D-12D84039645D\r\n",
      "USER=pyousefi\r\n",
      "SSH_AUTH_SOCK=/private/tmp/com.apple.launchd.vdRr5xYW4z/Listeners\r\n",
      "__CF_USER_TEXT_ENCODING=0x70733A53:0x0:0x0\r\n",
      "JPY_PARENT_PID=974\r\n",
      "PAGER=cat\r\n",
      "WORKON_HOME=/anaconda3/envs/\r\n",
      "PROJECT_HOME=/Users/pyousefi/dev\r\n",
      "VIRTUALENVWRAPPER_PYTHON=/anaconda3/bin/python\r\n",
      "PATH=/anaconda3/bin:/usr/local/opt/openssl/bin:/Users/pyousefi/.jenv/shims:/Users/pyousefi/.jenv/bin:/anaconda3/bin:/usr/local/bin:/usr/bin:/bin:/usr/sbin:/sbin:/usr/local/share/dotnet:~/.dotnet/tools:/Library/Frameworks/Mono.framework/Versions/Current/Commands:/Applications/Xamarin Workbooks.app/Contents/SharedSupport/path-bin\r\n",
      "_=/usr/bin/env\r\n",
      "VIRTUALENVWRAPPER_HOOK_DIR=/anaconda3/envs/\r\n",
      "PWD=/Users/pyousefi\r\n",
      "JENV_LOADED=1\r\n",
      "MPLBACKEND=module://ipykernel.pylab.backend_inline\r\n",
      "LANG=en_US.UTF-8\r\n",
      "ITERM_PROFILE=localhost\r\n",
      "XPC_FLAGS=0x0\r\n",
      "ITERM_ORIG_PS1=\\h:\\W \\u\\$ \r\n",
      "XPC_SERVICE_NAME=0\r\n",
      "COLORFGBG=7;0\r\n",
      "HOME=/Users/pyousefi\r\n",
      "SHLVL=2\r\n",
      "ITERM_PREV_PS1=\\[\u001b]133;D;$?\u0007\u001b]133;A\u0007\\]\\h:\\W \\u\\$ \\[\u001b]133;B\u0007\\]\r\n",
      "ITERM_SESSION_ID=w0t0p0:8EBE6DAE-FF28-4252-997D-12D84039645D\r\n",
      "LOGNAME=pyousefi\r\n",
      "VIRTUALENVWRAPPER_WORKON_CD=1\r\n",
      "GIT_PAGER=cat\r\n",
      "COLORTERM=truecolor\r\n"
     ]
    }
   ],
   "source": [
    "!env"
   ]
  },
  {
   "cell_type": "code",
   "execution_count": 7,
   "metadata": {},
   "outputs": [
    {
     "name": "stdout",
     "output_type": "stream",
     "text": [
      "Looking in indexes: http://nexus.rxcorp.com:8081/nexus/repository/pypi-all/simple\n",
      "Requirement already satisfied: flask in /anaconda3/lib/python3.6/site-packages (1.0.2)\n",
      "Requirement already satisfied: Jinja2>=2.10 in /anaconda3/lib/python3.6/site-packages (from flask) (2.10)\n",
      "Requirement already satisfied: click>=5.1 in /anaconda3/lib/python3.6/site-packages (from flask) (7.0)\n",
      "Requirement already satisfied: Werkzeug>=0.14 in /anaconda3/lib/python3.6/site-packages (from flask) (0.14.1)\n",
      "Requirement already satisfied: itsdangerous>=0.24 in /anaconda3/lib/python3.6/site-packages (from flask) (0.24)\n",
      "Requirement already satisfied: MarkupSafe>=0.23 in /anaconda3/lib/python3.6/site-packages (from Jinja2>=2.10->flask) (1.0)\n"
     ]
    }
   ],
   "source": [
    "!pip install flask"
   ]
  }
 ],
 "metadata": {
  "kernelspec": {
   "display_name": "Python 3",
   "language": "python",
   "name": "python3"
  },
  "language_info": {
   "codemirror_mode": {
    "name": "ipython",
    "version": 3
   },
   "file_extension": ".py",
   "mimetype": "text/x-python",
   "name": "python",
   "nbconvert_exporter": "python",
   "pygments_lexer": "ipython3",
   "version": "3.6.6"
  }
 },
 "nbformat": 4,
 "nbformat_minor": 2
}
